{
  "nbformat": 4,
  "nbformat_minor": 0,
  "metadata": {
    "colab": {
      "provenance": []
    },
    "kernelspec": {
      "name": "python3",
      "display_name": "Python 3"
    },
    "language_info": {
      "name": "python"
    }
  },
  "cells": [
    {
      "cell_type": "code",
      "source": [
        "!pip install requests beautifulsoup4 pandas\n",
        "\n",
        "import requests\n",
        "from bs4 import BeautifulSoup\n",
        "import pandas as pd\n",
        "import time\n",
        "\n",
        "BASE_URL = \"https://www.1mg.com/all-diseases\"\n",
        "DETAIL_BASE_URL = \"https://www.1mg.com\"\n",
        "\n",
        "def get_disease_list():\n",
        "    response = requests.get(BASE_URL)\n",
        "    soup = BeautifulSoup(response.text, 'html.parser')\n",
        "    disease_links = []\n",
        "\n",
        "\n",
        "    for a in soup.select('a[href^=\"/all-diseases?label=e\"]'):\n",
        "        disease_name = a.get_text(strip=True)\n",
        "        disease_url = DETAIL_BASE_URL + a['href']\n",
        "        disease_links.append({'Disease Name': disease_name, 'Detail URL': disease_url})\n",
        "\n",
        "    return disease_links\n",
        "\n",
        "def get_disease_details(disease_url):\n",
        "    response = requests.get(disease_url)\n",
        "    soup = BeautifulSoup(response.text, 'html.parser')\n",
        "    details = {}\n",
        "\n",
        "    def get_text_from_selector(selector):\n",
        "        element = soup.select_one(selector)\n",
        "        return element.get_text(strip=True) if element else None\n",
        "    details['Overview'] = get_text_from_selector('.disease-content-section')\n",
        "    details['Key Facts'] = get_text_from_selector('.key-facts-content')\n",
        "    details['Overview'] = get_text_from_selector('.disease-content-section')\n",
        "\n",
        "    return details\n",
        "\n",
        "def main():\n",
        "\n",
        "    disease_list = get_disease_list()\n",
        "    print(f\"Found {len(disease_list)} diseases.\")\n",
        "\n",
        "\n",
        "    all_disease_details = []\n",
        "    for i, disease in enumerate(disease_list):\n",
        "        print(f\"Scraping details for {disease['Disease Name']} ({i+1}/{len(disease_list)}) from {disease['Detail URL']}\")\n",
        "        details = get_disease_details(disease['Detail URL'])\n",
        "        all_disease_details.append({**disease, **details})\n",
        "        time.sleep(1)\n",
        "\n",
        "\n",
        "    df = pd.DataFrame(all_disease_details)\n",
        "    df.to_csv('disease_details.csv', index=False)\n",
        "    print(\"Data saved to disease_details.csv\")\n",
        "    return df\n",
        "if __name__ == \"__main__\":\n",
        "    df = main()\n",
        "    print(df.head())\n"
      ],
      "metadata": {
        "colab": {
          "base_uri": "https://localhost:8080/"
        },
        "id": "sXKSflUOWPw_",
        "outputId": "563e0b34-d9fc-42fe-b035-1c98d0c0b2aa"
      },
      "execution_count": 8,
      "outputs": [
        {
          "output_type": "stream",
          "name": "stdout",
          "text": [
            "Requirement already satisfied: requests in /usr/local/lib/python3.10/dist-packages (2.31.0)\n",
            "Requirement already satisfied: beautifulsoup4 in /usr/local/lib/python3.10/dist-packages (4.12.3)\n",
            "Requirement already satisfied: pandas in /usr/local/lib/python3.10/dist-packages (2.0.3)\n",
            "Requirement already satisfied: charset-normalizer<4,>=2 in /usr/local/lib/python3.10/dist-packages (from requests) (3.3.2)\n",
            "Requirement already satisfied: idna<4,>=2.5 in /usr/local/lib/python3.10/dist-packages (from requests) (3.7)\n",
            "Requirement already satisfied: urllib3<3,>=1.21.1 in /usr/local/lib/python3.10/dist-packages (from requests) (2.0.7)\n",
            "Requirement already satisfied: certifi>=2017.4.17 in /usr/local/lib/python3.10/dist-packages (from requests) (2024.6.2)\n",
            "Requirement already satisfied: soupsieve>1.2 in /usr/local/lib/python3.10/dist-packages (from beautifulsoup4) (2.5)\n",
            "Requirement already satisfied: python-dateutil>=2.8.2 in /usr/local/lib/python3.10/dist-packages (from pandas) (2.8.2)\n",
            "Requirement already satisfied: pytz>=2020.1 in /usr/local/lib/python3.10/dist-packages (from pandas) (2023.4)\n",
            "Requirement already satisfied: tzdata>=2022.1 in /usr/local/lib/python3.10/dist-packages (from pandas) (2024.1)\n",
            "Requirement already satisfied: numpy>=1.21.0 in /usr/local/lib/python3.10/dist-packages (from pandas) (1.25.2)\n",
            "Requirement already satisfied: six>=1.5 in /usr/local/lib/python3.10/dist-packages (from python-dateutil>=2.8.2->pandas) (1.16.0)\n",
            "Found 1 diseases.\n",
            "Scraping details for E (1/1) from https://www.1mg.com/all-diseases?label=e\n",
            "Data saved to disease_details.csv\n",
            "  Disease Name                                Detail URL Overview Key Facts\n",
            "0            E  https://www.1mg.com/all-diseases?label=e     None      None\n"
          ]
        }
      ]
    }
  ]
}